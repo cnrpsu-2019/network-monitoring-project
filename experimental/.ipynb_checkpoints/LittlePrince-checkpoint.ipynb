{
 "cells": [
  {
   "cell_type": "code",
   "execution_count": 1,
   "metadata": {},
   "outputs": [],
   "source": [
    "import sys\n",
    "sys.path.append('../')"
   ]
  },
  {
   "cell_type": "code",
   "execution_count": 2,
   "metadata": {},
   "outputs": [],
   "source": [
    "#import modules\n",
    "\n",
    "import Extract\n",
    "import createFiles\n",
    "import ExportToDB\n",
    "import re\n",
    "import csv"
   ]
  },
  {
   "cell_type": "code",
   "execution_count": 3,
   "metadata": {},
   "outputs": [],
   "source": [
    "with open('ap list - Sheet1.csv', mode='r') as infile:\n",
    "    reader = csv.reader(infile)\n",
    "    with open('coors_new.csv', mode='w') as outfile:\n",
    "        writer = csv.writer(outfile)\n",
    "        mydict = {rows[0]:rows[1] for rows in reader}"
   ]
  },
  {
   "cell_type": "code",
   "execution_count": 4,
   "metadata": {},
   "outputs": [
    {
     "data": {
      "text/plain": [
       "{'AP108-R300': 'R300 Info Lab',\n",
       " 'AP109-R404': 'R404',\n",
       " 'AP110-R311': 'R311, Robot Bldg.',\n",
       " 'AP111-R405': 'R405 Robotic Lab',\n",
       " 'AP112-R400': 'R400 Staff Office',\n",
       " 'AP2-7-R020-153': 'Robot Auditorium Robot Bldg.',\n",
       " 'AP2-8-R020-154': 'Robot Auditorium Robot Bldg.',\n",
       " 'AP201-R411': 'R411',\n",
       " 'AP204-R100': 'R100',\n",
       " 'AP205-R207': 'R207 Common Room',\n",
       " 'AP206-R204': 'R204 Network Security Lab',\n",
       " 'AP208-R211': 'R211 WIG Research Lab',\n",
       " 'AP209-R302-1': 'R302 CNR Lab',\n",
       " 'AP210-R302-2': 'R302-CNR-Meeting-Room',\n",
       " 'AP211-Shop': 'CoE Workshop Flr01',\n",
       " 'AP212-IDL': 'IDL, Flr04',\n",
       " 'AP213-R202': 'R400 Staff Office',\n",
       " 'AP214-R205': 'CoE General Office',\n",
       " 'AP215-R409': 'R409, Robot Bldg.',\n",
       " 'AP216-R101': 'R101, Robot Bldg.',\n",
       " 'AP217-FL01-W': 'Floor01-West-Activity-Area',\n",
       " 'AP218-FL01-E': 'Floor01-East-Activity-Area',\n",
       " 'AP219-R303': 'R303, Robot Bldg.',\n",
       " 'AP220-R301B': 'R301B, Robot Bldg.',\n",
       " 'AP221-R301A': 'R301A, Robot Bldg.',\n",
       " 'AP222-R201': 'R201, Robot Bldg.',\n",
       " 'AP223-R200': 'R200, Robot Bldg.',\n",
       " 'AP3-46-R010-146': 'R010-Robot Exhibition Hall Robot Bldg.'}"
      ]
     },
     "execution_count": 4,
     "metadata": {},
     "output_type": "execute_result"
    }
   ],
   "source": [
    "mydict"
   ]
  },
  {
   "cell_type": "code",
   "execution_count": null,
   "metadata": {},
   "outputs": [],
   "source": []
  }
 ],
 "metadata": {
  "kernelspec": {
   "display_name": "Python 3.6.9 64-bit",
   "language": "python",
   "name": "python36964bitf8d184e375e24076b6431d69b906622e"
  },
  "language_info": {
   "codemirror_mode": {
    "name": "ipython",
    "version": 3
   },
   "file_extension": ".py",
   "mimetype": "text/x-python",
   "name": "python",
   "nbconvert_exporter": "python",
   "pygments_lexer": "ipython3",
   "version": "3.6.9"
  }
 },
 "nbformat": 4,
 "nbformat_minor": 2
}
