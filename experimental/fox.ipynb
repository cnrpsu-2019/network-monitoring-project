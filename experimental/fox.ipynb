{
 "cells": [
  {
   "cell_type": "code",
   "execution_count": 1,
   "metadata": {},
   "outputs": [],
   "source": [
    "import sys\n",
    "sys.path.append('../')"
   ]
  },
  {
   "cell_type": "code",
   "execution_count": 2,
   "metadata": {},
   "outputs": [],
   "source": [
    "import createFiles\n",
    "import Extract\n",
    "import re\n",
    "import MacList"
   ]
  },
  {
   "cell_type": "code",
   "execution_count": 8,
   "metadata": {},
   "outputs": [],
   "source": [
    "curr_mac = Extract.client_mac(createFiles.sampleFile)[-1]\n",
    "prev_mac = Extract.client_mac(createFiles.sampleFile)[-2]\n",
    "status = Extract.extractSpecific(createFiles.sampleFile,'Event').split('Event')[-1].strip()\n",
    "bucket = []\n",
    "##Associate Disassociate"
   ]
  },
  {
   "cell_type": "code",
   "execution_count": 10,
   "metadata": {},
   "outputs": [],
   "source": [
    "if curr_mac is not prev_mac:\n",
    "    if status is 'Associate':\n",
    "        bucket.append(curr_mac)\n",
    "    elif status is 'Disassociate':\n",
    "        if bucket != []:\n",
    "            bucket.pop()"
   ]
  },
  {
   "cell_type": "code",
   "execution_count": null,
   "metadata": {},
   "outputs": [],
   "source": []
  }
 ],
 "metadata": {
  "kernelspec": {
   "display_name": "Python 3",
   "language": "python",
   "name": "python3"
  },
  "language_info": {
   "codemirror_mode": {
    "name": "ipython",
    "version": 3
   },
   "file_extension": ".py",
   "mimetype": "text/x-python",
   "name": "python",
   "nbconvert_exporter": "python",
   "pygments_lexer": "ipython3",
   "version": "3.8.2-final"
  }
 },
 "nbformat": 4,
 "nbformat_minor": 2
}